{
 "cells": [
  {
   "cell_type": "markdown",
   "metadata": {
    "id": "Pwbl4AA1AjqM"
   },
   "source": [
    "Import Libraries"
   ]
  },
  {
   "cell_type": "code",
   "execution_count": 1,
   "metadata": {
    "id": "b21gviNqzbGE"
   },
   "outputs": [],
   "source": [
    "import time\n",
    "import numpy as np\n",
    "import pandas as pd\n",
    "from sklearn.model_selection import train_test_split, GridSearchCV\n",
    "from sklearn.preprocessing import LabelEncoder\n",
    "from sklearn.metrics import accuracy_score, precision_score, recall_score, f1_score\n",
    "import xgboost as xgb"
   ]
  },
  {
   "cell_type": "markdown",
   "metadata": {
    "id": "RqIrmtcpAyLP"
   },
   "source": [
    "Load and Display Data"
   ]
  },
  {
   "cell_type": "code",
   "execution_count": 2,
   "metadata": {
    "colab": {
     "base_uri": "https://localhost:8080/",
     "height": 311
    },
    "id": "hMZ8rK_G7YYW",
    "outputId": "8065d74f-c690-4f33-8a4c-d642d943e6ba"
   },
   "outputs": [
    {
     "data": {
      "text/html": [
       "<div>\n",
       "<style scoped>\n",
       "    .dataframe tbody tr th:only-of-type {\n",
       "        vertical-align: middle;\n",
       "    }\n",
       "\n",
       "    .dataframe tbody tr th {\n",
       "        vertical-align: top;\n",
       "    }\n",
       "\n",
       "    .dataframe thead th {\n",
       "        text-align: right;\n",
       "    }\n",
       "</style>\n",
       "<table border=\"1\" class=\"dataframe\">\n",
       "  <thead>\n",
       "    <tr style=\"text-align: right;\">\n",
       "      <th></th>\n",
       "      <th>subject</th>\n",
       "      <th>sessionIndex</th>\n",
       "      <th>rep</th>\n",
       "      <th>H.period</th>\n",
       "      <th>DD.period.t</th>\n",
       "      <th>UD.period.t</th>\n",
       "      <th>H.t</th>\n",
       "      <th>DD.t.i</th>\n",
       "      <th>UD.t.i</th>\n",
       "      <th>H.i</th>\n",
       "      <th>...</th>\n",
       "      <th>H.a</th>\n",
       "      <th>DD.a.n</th>\n",
       "      <th>UD.a.n</th>\n",
       "      <th>H.n</th>\n",
       "      <th>DD.n.l</th>\n",
       "      <th>UD.n.l</th>\n",
       "      <th>H.l</th>\n",
       "      <th>DD.l.Return</th>\n",
       "      <th>UD.l.Return</th>\n",
       "      <th>H.Return</th>\n",
       "    </tr>\n",
       "  </thead>\n",
       "  <tbody>\n",
       "    <tr>\n",
       "      <th>0</th>\n",
       "      <td>s002</td>\n",
       "      <td>1</td>\n",
       "      <td>1</td>\n",
       "      <td>0.1491</td>\n",
       "      <td>0.3979</td>\n",
       "      <td>0.2488</td>\n",
       "      <td>0.1069</td>\n",
       "      <td>0.1674</td>\n",
       "      <td>0.0605</td>\n",
       "      <td>0.1169</td>\n",
       "      <td>...</td>\n",
       "      <td>0.1349</td>\n",
       "      <td>0.1484</td>\n",
       "      <td>0.0135</td>\n",
       "      <td>0.0932</td>\n",
       "      <td>0.3515</td>\n",
       "      <td>0.2583</td>\n",
       "      <td>0.1338</td>\n",
       "      <td>0.3509</td>\n",
       "      <td>0.2171</td>\n",
       "      <td>0.0742</td>\n",
       "    </tr>\n",
       "    <tr>\n",
       "      <th>1</th>\n",
       "      <td>s002</td>\n",
       "      <td>1</td>\n",
       "      <td>2</td>\n",
       "      <td>0.1111</td>\n",
       "      <td>0.3451</td>\n",
       "      <td>0.2340</td>\n",
       "      <td>0.0694</td>\n",
       "      <td>0.1283</td>\n",
       "      <td>0.0589</td>\n",
       "      <td>0.0908</td>\n",
       "      <td>...</td>\n",
       "      <td>0.1412</td>\n",
       "      <td>0.2558</td>\n",
       "      <td>0.1146</td>\n",
       "      <td>0.1146</td>\n",
       "      <td>0.2642</td>\n",
       "      <td>0.1496</td>\n",
       "      <td>0.0839</td>\n",
       "      <td>0.2756</td>\n",
       "      <td>0.1917</td>\n",
       "      <td>0.0747</td>\n",
       "    </tr>\n",
       "    <tr>\n",
       "      <th>2</th>\n",
       "      <td>s002</td>\n",
       "      <td>1</td>\n",
       "      <td>3</td>\n",
       "      <td>0.1328</td>\n",
       "      <td>0.2072</td>\n",
       "      <td>0.0744</td>\n",
       "      <td>0.0731</td>\n",
       "      <td>0.1291</td>\n",
       "      <td>0.0560</td>\n",
       "      <td>0.0821</td>\n",
       "      <td>...</td>\n",
       "      <td>0.1621</td>\n",
       "      <td>0.2332</td>\n",
       "      <td>0.0711</td>\n",
       "      <td>0.1172</td>\n",
       "      <td>0.2705</td>\n",
       "      <td>0.1533</td>\n",
       "      <td>0.1085</td>\n",
       "      <td>0.2847</td>\n",
       "      <td>0.1762</td>\n",
       "      <td>0.0945</td>\n",
       "    </tr>\n",
       "    <tr>\n",
       "      <th>3</th>\n",
       "      <td>s002</td>\n",
       "      <td>1</td>\n",
       "      <td>4</td>\n",
       "      <td>0.1291</td>\n",
       "      <td>0.2515</td>\n",
       "      <td>0.1224</td>\n",
       "      <td>0.1059</td>\n",
       "      <td>0.2495</td>\n",
       "      <td>0.1436</td>\n",
       "      <td>0.1040</td>\n",
       "      <td>...</td>\n",
       "      <td>0.1457</td>\n",
       "      <td>0.1629</td>\n",
       "      <td>0.0172</td>\n",
       "      <td>0.0866</td>\n",
       "      <td>0.2341</td>\n",
       "      <td>0.1475</td>\n",
       "      <td>0.0845</td>\n",
       "      <td>0.3232</td>\n",
       "      <td>0.2387</td>\n",
       "      <td>0.0813</td>\n",
       "    </tr>\n",
       "    <tr>\n",
       "      <th>4</th>\n",
       "      <td>s002</td>\n",
       "      <td>1</td>\n",
       "      <td>5</td>\n",
       "      <td>0.1249</td>\n",
       "      <td>0.2317</td>\n",
       "      <td>0.1068</td>\n",
       "      <td>0.0895</td>\n",
       "      <td>0.1676</td>\n",
       "      <td>0.0781</td>\n",
       "      <td>0.0903</td>\n",
       "      <td>...</td>\n",
       "      <td>0.1312</td>\n",
       "      <td>0.1582</td>\n",
       "      <td>0.0270</td>\n",
       "      <td>0.0884</td>\n",
       "      <td>0.2517</td>\n",
       "      <td>0.1633</td>\n",
       "      <td>0.0903</td>\n",
       "      <td>0.2517</td>\n",
       "      <td>0.1614</td>\n",
       "      <td>0.0818</td>\n",
       "    </tr>\n",
       "  </tbody>\n",
       "</table>\n",
       "<p>5 rows × 34 columns</p>\n",
       "</div>"
      ],
      "text/plain": [
       "  subject  sessionIndex  rep  H.period  DD.period.t  UD.period.t     H.t  \\\n",
       "0    s002             1    1    0.1491       0.3979       0.2488  0.1069   \n",
       "1    s002             1    2    0.1111       0.3451       0.2340  0.0694   \n",
       "2    s002             1    3    0.1328       0.2072       0.0744  0.0731   \n",
       "3    s002             1    4    0.1291       0.2515       0.1224  0.1059   \n",
       "4    s002             1    5    0.1249       0.2317       0.1068  0.0895   \n",
       "\n",
       "   DD.t.i  UD.t.i     H.i  ...     H.a  DD.a.n  UD.a.n     H.n  DD.n.l  \\\n",
       "0  0.1674  0.0605  0.1169  ...  0.1349  0.1484  0.0135  0.0932  0.3515   \n",
       "1  0.1283  0.0589  0.0908  ...  0.1412  0.2558  0.1146  0.1146  0.2642   \n",
       "2  0.1291  0.0560  0.0821  ...  0.1621  0.2332  0.0711  0.1172  0.2705   \n",
       "3  0.2495  0.1436  0.1040  ...  0.1457  0.1629  0.0172  0.0866  0.2341   \n",
       "4  0.1676  0.0781  0.0903  ...  0.1312  0.1582  0.0270  0.0884  0.2517   \n",
       "\n",
       "   UD.n.l     H.l  DD.l.Return  UD.l.Return  H.Return  \n",
       "0  0.2583  0.1338       0.3509       0.2171    0.0742  \n",
       "1  0.1496  0.0839       0.2756       0.1917    0.0747  \n",
       "2  0.1533  0.1085       0.2847       0.1762    0.0945  \n",
       "3  0.1475  0.0845       0.3232       0.2387    0.0813  \n",
       "4  0.1633  0.0903       0.2517       0.1614    0.0818  \n",
       "\n",
       "[5 rows x 34 columns]"
      ]
     },
     "execution_count": 2,
     "metadata": {},
     "output_type": "execute_result"
    }
   ],
   "source": [
    "df = pd.read_csv('./../Dataset/StrongPassword.csv')\n",
    "df.head()"
   ]
  },
  {
   "cell_type": "markdown",
   "metadata": {
    "id": "7s8GpTrCB87o"
   },
   "source": [
    "Feature Extraction Functions"
   ]
  },
  {
   "cell_type": "code",
   "execution_count": 3,
   "metadata": {
    "id": "DfN02vIM8wo-"
   },
   "outputs": [],
   "source": [
    "def get_feature_columns(df):\n",
    "    \"\"\"\n",
    "    Extract column names for dwell times, latency, and flight times.\n",
    "    \"\"\"\n",
    "    dwell_columns = [col for col in df.columns if col.startswith('H.')]\n",
    "    latency_columns = [col for col in df.columns if col.startswith('DD.')]\n",
    "    flight_columns = [col for col in df.columns if col.startswith('UD.')]\n",
    "    return dwell_columns, latency_columns, flight_columns\n",
    "\n",
    "def extract_features(df, feature_set):\n",
    "    \"\"\"\n",
    "    Extract features based on the specified feature set.\n",
    "    feature_set can be 'first_order', 'second_order', or 'combined'.\n",
    "    \"\"\"\n",
    "    dwell_columns, latency_columns, flight_columns = get_feature_columns(df)\n",
    "    \n",
    "    # First-order features\n",
    "    first_order_features = pd.concat([\n",
    "        df[dwell_columns],\n",
    "        df[latency_columns],\n",
    "        df[flight_columns]\n",
    "    ], axis=1)\n",
    "    \n",
    "    if feature_set == 'first_order':\n",
    "        return first_order_features\n",
    "    elif feature_set == 'second_order':\n",
    "        # Calculate second-order features\n",
    "        second_order_features = {\n",
    "            'mean_dwell_time': first_order_features[dwell_columns].mean(axis=1),\n",
    "            'std_dwell_time': first_order_features[dwell_columns].std(axis=1),\n",
    "            'mean_latency': first_order_features[latency_columns].mean(axis=1),\n",
    "            'std_latency': first_order_features[latency_columns].std(axis=1),\n",
    "            'mean_flight_time': first_order_features[flight_columns].mean(axis=1),\n",
    "            'std_flight_time': first_order_features[flight_columns].std(axis=1),\n",
    "        }\n",
    "        return pd.DataFrame(second_order_features)\n",
    "    elif feature_set == 'combined':\n",
    "        # Combine first and second-order features\n",
    "        second_order_features = {\n",
    "            'mean_dwell_time': first_order_features[dwell_columns].mean(axis=1),\n",
    "            'std_dwell_time': first_order_features[dwell_columns].std(axis=1),\n",
    "            'mean_latency': first_order_features[latency_columns].mean(axis=1),\n",
    "            'std_latency': first_order_features[latency_columns].std(axis=1),\n",
    "            'mean_flight_time': first_order_features[flight_columns].mean(axis=1),\n",
    "            'std_flight_time': first_order_features[flight_columns].std(axis=1),\n",
    "        }\n",
    "        second_order_df = pd.DataFrame(second_order_features)\n",
    "        combined_features = pd.concat([first_order_features, second_order_df], axis=1)\n",
    "        return combined_features\n",
    "    else:\n",
    "        raise ValueError(\"Invalid feature set specified. Choose from 'first_order', 'second_order', or 'combined'.\")"
   ]
  },
  {
   "cell_type": "markdown",
   "metadata": {
    "id": "S7XwSe_GChQ5"
   },
   "source": [
    "Define Model Training and Evaluation Function"
   ]
  },
  {
   "cell_type": "code",
   "execution_count": null,
   "metadata": {},
   "outputs": [],
   "source": [
    "def train_and_evaluate_user(user, df, feature_set, feature_set_name):\n",
    "    \"\"\"\n",
    "    Train and evaluate the model for a specific user using the specified feature set.\n",
    "    Returns evaluation metrics and training time.\n",
    "    \"\"\"\n",
    "    start_time = time.time()\n",
    "    \n",
    "    # Create binary labels: 1 for genuine user, 0 for imposters\n",
    "    user_df = df.copy()\n",
    "    user_df['label'] = (user_df['subject'] == user).astype(int)\n",
    "    \n",
    "    # Extract features\n",
    "    X = extract_features(user_df, feature_set)\n",
    "    y = user_df['label']\n",
    "    \n",
    "    # Split the data\n",
    "    X_train, X_test, y_train, y_test = train_test_split(\n",
    "        X, y, test_size=0.2, random_state=42, stratify=y\n",
    "    )\n",
    "    \n",
    "    # Initialize the model\n",
    "    model = xgb.XGBClassifier(eval_metric='logloss')\n",
    "    \n",
    "    # Train the model\n",
    "    model.fit(X_train, y_train)\n",
    "    \n",
    "    # Make predictions\n",
    "    y_pred = model.predict(X_test)\n",
    "    \n",
    "    # Calculate metrics\n",
    "    accuracy = accuracy_score(y_test, y_pred)\n",
    "    precision = precision_score(y_test, y_pred, zero_division=0)\n",
    "    recall = recall_score(y_test, y_pred, zero_division=0)\n",
    "    f1 = f1_score(y_test, y_pred, zero_division=0)\n",
    "    \n",
    "    # Calculate training time\n",
    "    end_time = time.time()\n",
    "    training_time = end_time - start_time\n",
    "    \n",
    "    # Print metrics\n",
    "    print(f\"Metrics for user {user} using {feature_set_name}:\")\n",
    "    print(f\" - Accuracy: {accuracy * 100:.2f}%\")\n",
    "    print(f\" - Precision: {precision:.2f}\")\n",
    "    print(f\" - Recall: {recall:.2f}\")\n",
    "    print(f\" - F1-Score: {f1:.2f}\")\n",
    "    print(f\" - Training time: {training_time:.2f} seconds\\n\")\n",
    "    \n",
    "    return accuracy, precision, recall, f1, training_time"
   ]
  },
  {
   "cell_type": "markdown",
   "metadata": {
    "id": "ZarCZwrpDAr8"
   },
   "source": [
    "Train Models and Evaluate Performance"
   ]
  },
  {
   "cell_type": "code",
   "execution_count": 5,
   "metadata": {},
   "outputs": [
    {
     "name": "stdout",
     "output_type": "stream",
     "text": [
      "\n",
      "=== Training models using First-Order Features ===\n",
      "\n"
     ]
    },
    {
     "name": "stderr",
     "output_type": "stream",
     "text": [
      "/home/crystallizer/.local/lib/python3.10/site-packages/xgboost/core.py:158: UserWarning: [13:26:43] WARNING: /workspace/src/learner.cc:740: \n",
      "Parameters: { \"use_label_encoder\" } are not used.\n",
      "\n",
      "  warnings.warn(smsg, UserWarning)\n"
     ]
    },
    {
     "name": "stdout",
     "output_type": "stream",
     "text": [
      "Metrics for user s002 using First-Order Features:\n",
      " - Accuracy: 99.26%\n",
      " - Precision: 0.95\n",
      " - Recall: 0.66\n",
      " - F1-Score: 0.78\n",
      " - Training time: 0.75 seconds\n",
      "\n"
     ]
    },
    {
     "name": "stderr",
     "output_type": "stream",
     "text": [
      "/home/crystallizer/.local/lib/python3.10/site-packages/xgboost/core.py:158: UserWarning: [13:26:44] WARNING: /workspace/src/learner.cc:740: \n",
      "Parameters: { \"use_label_encoder\" } are not used.\n",
      "\n",
      "  warnings.warn(smsg, UserWarning)\n"
     ]
    },
    {
     "name": "stdout",
     "output_type": "stream",
     "text": [
      "Metrics for user s003 using First-Order Features:\n",
      " - Accuracy: 99.88%\n",
      " - Precision: 1.00\n",
      " - Recall: 0.94\n",
      " - F1-Score: 0.97\n",
      " - Training time: 0.41 seconds\n",
      "\n"
     ]
    },
    {
     "name": "stderr",
     "output_type": "stream",
     "text": [
      "/home/crystallizer/.local/lib/python3.10/site-packages/xgboost/core.py:158: UserWarning: [13:26:44] WARNING: /workspace/src/learner.cc:740: \n",
      "Parameters: { \"use_label_encoder\" } are not used.\n",
      "\n",
      "  warnings.warn(smsg, UserWarning)\n"
     ]
    },
    {
     "name": "stdout",
     "output_type": "stream",
     "text": [
      "Metrics for user s004 using First-Order Features:\n",
      " - Accuracy: 99.41%\n",
      " - Precision: 0.90\n",
      " - Recall: 0.79\n",
      " - F1-Score: 0.84\n",
      " - Training time: 0.40 seconds\n",
      "\n",
      "Metrics for user s005 using First-Order Features:\n",
      " - Accuracy: 99.83%\n",
      " - Precision: 1.00\n",
      " - Recall: 0.91\n",
      " - F1-Score: 0.95\n",
      " - Training time: 0.20 seconds\n",
      "\n"
     ]
    },
    {
     "name": "stderr",
     "output_type": "stream",
     "text": [
      "/home/crystallizer/.local/lib/python3.10/site-packages/xgboost/core.py:158: UserWarning: [13:26:44] WARNING: /workspace/src/learner.cc:740: \n",
      "Parameters: { \"use_label_encoder\" } are not used.\n",
      "\n",
      "  warnings.warn(smsg, UserWarning)\n",
      "/home/crystallizer/.local/lib/python3.10/site-packages/xgboost/core.py:158: UserWarning: [13:26:45] WARNING: /workspace/src/learner.cc:740: \n",
      "Parameters: { \"use_label_encoder\" } are not used.\n",
      "\n",
      "  warnings.warn(smsg, UserWarning)\n"
     ]
    },
    {
     "name": "stdout",
     "output_type": "stream",
     "text": [
      "Metrics for user s007 using First-Order Features:\n",
      " - Accuracy: 99.19%\n",
      " - Precision: 0.94\n",
      " - Recall: 0.62\n",
      " - F1-Score: 0.75\n",
      " - Training time: 0.39 seconds\n",
      "\n"
     ]
    },
    {
     "name": "stderr",
     "output_type": "stream",
     "text": [
      "/home/crystallizer/.local/lib/python3.10/site-packages/xgboost/core.py:158: UserWarning: [13:26:45] WARNING: /workspace/src/learner.cc:740: \n",
      "Parameters: { \"use_label_encoder\" } are not used.\n",
      "\n",
      "  warnings.warn(smsg, UserWarning)\n"
     ]
    },
    {
     "name": "stdout",
     "output_type": "stream",
     "text": [
      "Metrics for user s008 using First-Order Features:\n",
      " - Accuracy: 99.34%\n",
      " - Precision: 0.92\n",
      " - Recall: 0.72\n",
      " - F1-Score: 0.81\n",
      " - Training time: 0.32 seconds\n",
      "\n",
      "Metrics for user s010 using First-Order Features:\n",
      " - Accuracy: 99.93%\n",
      " - Precision: 0.99\n",
      " - Recall: 0.97\n",
      " - F1-Score: 0.98\n",
      " - Training time: 0.18 seconds\n",
      "\n"
     ]
    },
    {
     "name": "stderr",
     "output_type": "stream",
     "text": [
      "/home/crystallizer/.local/lib/python3.10/site-packages/xgboost/core.py:158: UserWarning: [13:26:45] WARNING: /workspace/src/learner.cc:740: \n",
      "Parameters: { \"use_label_encoder\" } are not used.\n",
      "\n",
      "  warnings.warn(smsg, UserWarning)\n",
      "/home/crystallizer/.local/lib/python3.10/site-packages/xgboost/core.py:158: UserWarning: [13:26:46] WARNING: /workspace/src/learner.cc:740: \n",
      "Parameters: { \"use_label_encoder\" } are not used.\n",
      "\n",
      "  warnings.warn(smsg, UserWarning)\n"
     ]
    },
    {
     "name": "stdout",
     "output_type": "stream",
     "text": [
      "Metrics for user s011 using First-Order Features:\n",
      " - Accuracy: 99.78%\n",
      " - Precision: 0.99\n",
      " - Recall: 0.90\n",
      " - F1-Score: 0.94\n",
      " - Training time: 0.38 seconds\n",
      "\n"
     ]
    },
    {
     "name": "stderr",
     "output_type": "stream",
     "text": [
      "/home/crystallizer/.local/lib/python3.10/site-packages/xgboost/core.py:158: UserWarning: [13:26:46] WARNING: /workspace/src/learner.cc:740: \n",
      "Parameters: { \"use_label_encoder\" } are not used.\n",
      "\n",
      "  warnings.warn(smsg, UserWarning)\n"
     ]
    },
    {
     "name": "stdout",
     "output_type": "stream",
     "text": [
      "Metrics for user s012 using First-Order Features:\n",
      " - Accuracy: 99.73%\n",
      " - Precision: 0.96\n",
      " - Recall: 0.90\n",
      " - F1-Score: 0.93\n",
      " - Training time: 0.62 seconds\n",
      "\n"
     ]
    },
    {
     "name": "stderr",
     "output_type": "stream",
     "text": [
      "/home/crystallizer/.local/lib/python3.10/site-packages/xgboost/core.py:158: UserWarning: [13:26:47] WARNING: /workspace/src/learner.cc:740: \n",
      "Parameters: { \"use_label_encoder\" } are not used.\n",
      "\n",
      "  warnings.warn(smsg, UserWarning)\n"
     ]
    },
    {
     "name": "stdout",
     "output_type": "stream",
     "text": [
      "Metrics for user s013 using First-Order Features:\n",
      " - Accuracy: 99.71%\n",
      " - Precision: 0.96\n",
      " - Recall: 0.89\n",
      " - F1-Score: 0.92\n",
      " - Training time: 0.29 seconds\n",
      "\n"
     ]
    },
    {
     "name": "stderr",
     "output_type": "stream",
     "text": [
      "/home/crystallizer/.local/lib/python3.10/site-packages/xgboost/core.py:158: UserWarning: [13:26:47] WARNING: /workspace/src/learner.cc:740: \n",
      "Parameters: { \"use_label_encoder\" } are not used.\n",
      "\n",
      "  warnings.warn(smsg, UserWarning)\n"
     ]
    },
    {
     "name": "stdout",
     "output_type": "stream",
     "text": [
      "Metrics for user s015 using First-Order Features:\n",
      " - Accuracy: 99.56%\n",
      " - Precision: 0.94\n",
      " - Recall: 0.82\n",
      " - F1-Score: 0.88\n",
      " - Training time: 0.25 seconds\n",
      "\n"
     ]
    },
    {
     "name": "stderr",
     "output_type": "stream",
     "text": [
      "/home/crystallizer/.local/lib/python3.10/site-packages/xgboost/core.py:158: UserWarning: [13:26:47] WARNING: /workspace/src/learner.cc:740: \n",
      "Parameters: { \"use_label_encoder\" } are not used.\n",
      "\n",
      "  warnings.warn(smsg, UserWarning)\n"
     ]
    },
    {
     "name": "stdout",
     "output_type": "stream",
     "text": [
      "Metrics for user s016 using First-Order Features:\n",
      " - Accuracy: 99.78%\n",
      " - Precision: 0.97\n",
      " - Recall: 0.91\n",
      " - F1-Score: 0.94\n",
      " - Training time: 0.28 seconds\n",
      "\n"
     ]
    },
    {
     "name": "stderr",
     "output_type": "stream",
     "text": [
      "/home/crystallizer/.local/lib/python3.10/site-packages/xgboost/core.py:158: UserWarning: [13:26:47] WARNING: /workspace/src/learner.cc:740: \n",
      "Parameters: { \"use_label_encoder\" } are not used.\n",
      "\n",
      "  warnings.warn(smsg, UserWarning)\n"
     ]
    },
    {
     "name": "stdout",
     "output_type": "stream",
     "text": [
      "Metrics for user s017 using First-Order Features:\n",
      " - Accuracy: 99.90%\n",
      " - Precision: 1.00\n",
      " - Recall: 0.95\n",
      " - F1-Score: 0.97\n",
      " - Training time: 0.22 seconds\n",
      "\n"
     ]
    },
    {
     "name": "stderr",
     "output_type": "stream",
     "text": [
      "/home/crystallizer/.local/lib/python3.10/site-packages/xgboost/core.py:158: UserWarning: [13:26:48] WARNING: /workspace/src/learner.cc:740: \n",
      "Parameters: { \"use_label_encoder\" } are not used.\n",
      "\n",
      "  warnings.warn(smsg, UserWarning)\n"
     ]
    },
    {
     "name": "stdout",
     "output_type": "stream",
     "text": [
      "Metrics for user s018 using First-Order Features:\n",
      " - Accuracy: 99.73%\n",
      " - Precision: 0.99\n",
      " - Recall: 0.88\n",
      " - F1-Score: 0.93\n",
      " - Training time: 0.38 seconds\n",
      "\n"
     ]
    },
    {
     "name": "stderr",
     "output_type": "stream",
     "text": [
      "/home/crystallizer/.local/lib/python3.10/site-packages/xgboost/core.py:158: UserWarning: [13:26:48] WARNING: /workspace/src/learner.cc:740: \n",
      "Parameters: { \"use_label_encoder\" } are not used.\n",
      "\n",
      "  warnings.warn(smsg, UserWarning)\n"
     ]
    },
    {
     "name": "stdout",
     "output_type": "stream",
     "text": [
      "Metrics for user s019 using First-Order Features:\n",
      " - Accuracy: 99.93%\n",
      " - Precision: 1.00\n",
      " - Recall: 0.96\n",
      " - F1-Score: 0.98\n",
      " - Training time: 0.25 seconds\n",
      "\n"
     ]
    },
    {
     "name": "stderr",
     "output_type": "stream",
     "text": [
      "/home/crystallizer/.local/lib/python3.10/site-packages/xgboost/core.py:158: UserWarning: [13:26:48] WARNING: /workspace/src/learner.cc:740: \n",
      "Parameters: { \"use_label_encoder\" } are not used.\n",
      "\n",
      "  warnings.warn(smsg, UserWarning)\n"
     ]
    },
    {
     "name": "stdout",
     "output_type": "stream",
     "text": [
      "Metrics for user s020 using First-Order Features:\n",
      " - Accuracy: 99.51%\n",
      " - Precision: 0.93\n",
      " - Recall: 0.81\n",
      " - F1-Score: 0.87\n",
      " - Training time: 0.47 seconds\n",
      "\n"
     ]
    },
    {
     "name": "stderr",
     "output_type": "stream",
     "text": [
      "/home/crystallizer/.local/lib/python3.10/site-packages/xgboost/core.py:158: UserWarning: [13:26:49] WARNING: /workspace/src/learner.cc:740: \n",
      "Parameters: { \"use_label_encoder\" } are not used.\n",
      "\n",
      "  warnings.warn(smsg, UserWarning)\n"
     ]
    },
    {
     "name": "stdout",
     "output_type": "stream",
     "text": [
      "Metrics for user s021 using First-Order Features:\n",
      " - Accuracy: 99.66%\n",
      " - Precision: 0.96\n",
      " - Recall: 0.86\n",
      " - F1-Score: 0.91\n",
      " - Training time: 0.36 seconds\n",
      "\n",
      "Metrics for user s022 using First-Order Features:\n",
      " - Accuracy: 99.95%\n",
      " - Precision: 1.00\n",
      " - Recall: 0.97\n",
      " - F1-Score: 0.99\n",
      " - Training time: 0.16 seconds\n",
      "\n"
     ]
    },
    {
     "name": "stderr",
     "output_type": "stream",
     "text": [
      "/home/crystallizer/.local/lib/python3.10/site-packages/xgboost/core.py:158: UserWarning: [13:26:49] WARNING: /workspace/src/learner.cc:740: \n",
      "Parameters: { \"use_label_encoder\" } are not used.\n",
      "\n",
      "  warnings.warn(smsg, UserWarning)\n",
      "/home/crystallizer/.local/lib/python3.10/site-packages/xgboost/core.py:158: UserWarning: [13:26:49] WARNING: /workspace/src/learner.cc:740: \n",
      "Parameters: { \"use_label_encoder\" } are not used.\n",
      "\n",
      "  warnings.warn(smsg, UserWarning)\n"
     ]
    },
    {
     "name": "stdout",
     "output_type": "stream",
     "text": [
      "Metrics for user s024 using First-Order Features:\n",
      " - Accuracy: 99.88%\n",
      " - Precision: 1.00\n",
      " - Recall: 0.94\n",
      " - F1-Score: 0.97\n",
      " - Training time: 0.27 seconds\n",
      "\n"
     ]
    },
    {
     "name": "stderr",
     "output_type": "stream",
     "text": [
      "/home/crystallizer/.local/lib/python3.10/site-packages/xgboost/core.py:158: UserWarning: [13:26:49] WARNING: /workspace/src/learner.cc:740: \n",
      "Parameters: { \"use_label_encoder\" } are not used.\n",
      "\n",
      "  warnings.warn(smsg, UserWarning)\n"
     ]
    },
    {
     "name": "stdout",
     "output_type": "stream",
     "text": [
      "Metrics for user s025 using First-Order Features:\n",
      " - Accuracy: 99.88%\n",
      " - Precision: 0.96\n",
      " - Recall: 0.97\n",
      " - F1-Score: 0.97\n",
      " - Training time: 0.32 seconds\n",
      "\n"
     ]
    },
    {
     "name": "stderr",
     "output_type": "stream",
     "text": [
      "/home/crystallizer/.local/lib/python3.10/site-packages/xgboost/core.py:158: UserWarning: [13:26:50] WARNING: /workspace/src/learner.cc:740: \n",
      "Parameters: { \"use_label_encoder\" } are not used.\n",
      "\n",
      "  warnings.warn(smsg, UserWarning)\n"
     ]
    },
    {
     "name": "stdout",
     "output_type": "stream",
     "text": [
      "Metrics for user s026 using First-Order Features:\n",
      " - Accuracy: 99.73%\n",
      " - Precision: 0.99\n",
      " - Recall: 0.88\n",
      " - F1-Score: 0.93\n",
      " - Training time: 0.49 seconds\n",
      "\n"
     ]
    },
    {
     "name": "stderr",
     "output_type": "stream",
     "text": [
      "/home/crystallizer/.local/lib/python3.10/site-packages/xgboost/core.py:158: UserWarning: [13:26:50] WARNING: /workspace/src/learner.cc:740: \n",
      "Parameters: { \"use_label_encoder\" } are not used.\n",
      "\n",
      "  warnings.warn(smsg, UserWarning)\n"
     ]
    },
    {
     "name": "stdout",
     "output_type": "stream",
     "text": [
      "Metrics for user s027 using First-Order Features:\n",
      " - Accuracy: 99.75%\n",
      " - Precision: 0.97\n",
      " - Recall: 0.90\n",
      " - F1-Score: 0.94\n",
      " - Training time: 0.20 seconds\n",
      "\n"
     ]
    },
    {
     "name": "stderr",
     "output_type": "stream",
     "text": [
      "/home/crystallizer/.local/lib/python3.10/site-packages/xgboost/core.py:158: UserWarning: [13:26:50] WARNING: /workspace/src/learner.cc:740: \n",
      "Parameters: { \"use_label_encoder\" } are not used.\n",
      "\n",
      "  warnings.warn(smsg, UserWarning)\n"
     ]
    },
    {
     "name": "stdout",
     "output_type": "stream",
     "text": [
      "Metrics for user s028 using First-Order Features:\n",
      " - Accuracy: 99.88%\n",
      " - Precision: 0.99\n",
      " - Recall: 0.95\n",
      " - F1-Score: 0.97\n",
      " - Training time: 0.20 seconds\n",
      "\n"
     ]
    },
    {
     "name": "stderr",
     "output_type": "stream",
     "text": [
      "/home/crystallizer/.local/lib/python3.10/site-packages/xgboost/core.py:158: UserWarning: [13:26:51] WARNING: /workspace/src/learner.cc:740: \n",
      "Parameters: { \"use_label_encoder\" } are not used.\n",
      "\n",
      "  warnings.warn(smsg, UserWarning)\n"
     ]
    },
    {
     "name": "stdout",
     "output_type": "stream",
     "text": [
      "Metrics for user s029 using First-Order Features:\n",
      " - Accuracy: 99.46%\n",
      " - Precision: 0.88\n",
      " - Recall: 0.84\n",
      " - F1-Score: 0.86\n",
      " - Training time: 0.53 seconds\n",
      "\n"
     ]
    },
    {
     "name": "stderr",
     "output_type": "stream",
     "text": [
      "/home/crystallizer/.local/lib/python3.10/site-packages/xgboost/core.py:158: UserWarning: [13:26:51] WARNING: /workspace/src/learner.cc:740: \n",
      "Parameters: { \"use_label_encoder\" } are not used.\n",
      "\n",
      "  warnings.warn(smsg, UserWarning)\n"
     ]
    },
    {
     "name": "stdout",
     "output_type": "stream",
     "text": [
      "Metrics for user s030 using First-Order Features:\n",
      " - Accuracy: 99.78%\n",
      " - Precision: 0.97\n",
      " - Recall: 0.91\n",
      " - F1-Score: 0.94\n",
      " - Training time: 0.29 seconds\n",
      "\n"
     ]
    },
    {
     "name": "stderr",
     "output_type": "stream",
     "text": [
      "/home/crystallizer/.local/lib/python3.10/site-packages/xgboost/core.py:158: UserWarning: [13:26:51] WARNING: /workspace/src/learner.cc:740: \n",
      "Parameters: { \"use_label_encoder\" } are not used.\n",
      "\n",
      "  warnings.warn(smsg, UserWarning)\n"
     ]
    },
    {
     "name": "stdout",
     "output_type": "stream",
     "text": [
      "Metrics for user s031 using First-Order Features:\n",
      " - Accuracy: 99.26%\n",
      " - Precision: 0.95\n",
      " - Recall: 0.66\n",
      " - F1-Score: 0.78\n",
      " - Training time: 0.47 seconds\n",
      "\n"
     ]
    },
    {
     "name": "stderr",
     "output_type": "stream",
     "text": [
      "/home/crystallizer/.local/lib/python3.10/site-packages/xgboost/core.py:158: UserWarning: [13:26:52] WARNING: /workspace/src/learner.cc:740: \n",
      "Parameters: { \"use_label_encoder\" } are not used.\n",
      "\n",
      "  warnings.warn(smsg, UserWarning)\n"
     ]
    },
    {
     "name": "stdout",
     "output_type": "stream",
     "text": [
      "Metrics for user s032 using First-Order Features:\n",
      " - Accuracy: 99.14%\n",
      " - Precision: 1.00\n",
      " - Recall: 0.56\n",
      " - F1-Score: 0.72\n",
      " - Training time: 0.44 seconds\n",
      "\n"
     ]
    },
    {
     "name": "stderr",
     "output_type": "stream",
     "text": [
      "/home/crystallizer/.local/lib/python3.10/site-packages/xgboost/core.py:158: UserWarning: [13:26:52] WARNING: /workspace/src/learner.cc:740: \n",
      "Parameters: { \"use_label_encoder\" } are not used.\n",
      "\n",
      "  warnings.warn(smsg, UserWarning)\n"
     ]
    },
    {
     "name": "stdout",
     "output_type": "stream",
     "text": [
      "Metrics for user s033 using First-Order Features:\n",
      " - Accuracy: 99.88%\n",
      " - Precision: 0.97\n",
      " - Recall: 0.96\n",
      " - F1-Score: 0.97\n",
      " - Training time: 0.21 seconds\n",
      "\n"
     ]
    },
    {
     "name": "stderr",
     "output_type": "stream",
     "text": [
      "/home/crystallizer/.local/lib/python3.10/site-packages/xgboost/core.py:158: UserWarning: [13:26:53] WARNING: /workspace/src/learner.cc:740: \n",
      "Parameters: { \"use_label_encoder\" } are not used.\n",
      "\n",
      "  warnings.warn(smsg, UserWarning)\n"
     ]
    },
    {
     "ename": "KeyboardInterrupt",
     "evalue": "",
     "output_type": "error",
     "traceback": [
      "\u001b[0;31m---------------------------------------------------------------------------\u001b[0m",
      "\u001b[0;31mKeyboardInterrupt\u001b[0m                         Traceback (most recent call last)",
      "\u001b[0;32m/tmp/ipykernel_147112/4157381285.py\u001b[0m in \u001b[0;36m<module>\u001b[0;34m\u001b[0m\n\u001b[1;32m     22\u001b[0m     \u001b[0;31m# Loop over each user\u001b[0m\u001b[0;34m\u001b[0m\u001b[0;34m\u001b[0m\u001b[0m\n\u001b[1;32m     23\u001b[0m     \u001b[0;32mfor\u001b[0m \u001b[0muser\u001b[0m \u001b[0;32min\u001b[0m \u001b[0musers\u001b[0m\u001b[0;34m:\u001b[0m\u001b[0;34m\u001b[0m\u001b[0;34m\u001b[0m\u001b[0m\n\u001b[0;32m---> 24\u001b[0;31m         accuracy, precision, recall, f1, training_time = train_and_evaluate_user(\n\u001b[0m\u001b[1;32m     25\u001b[0m             \u001b[0muser\u001b[0m\u001b[0;34m,\u001b[0m \u001b[0mdf\u001b[0m\u001b[0;34m,\u001b[0m \u001b[0mfeature_set_key\u001b[0m\u001b[0;34m,\u001b[0m \u001b[0mfeature_set_name\u001b[0m\u001b[0;34m\u001b[0m\u001b[0;34m\u001b[0m\u001b[0m\n\u001b[1;32m     26\u001b[0m         )\n",
      "\u001b[0;32m/tmp/ipykernel_147112/1686980539.py\u001b[0m in \u001b[0;36mtrain_and_evaluate_user\u001b[0;34m(user, df, feature_set, feature_set_name)\u001b[0m\n\u001b[1;32m     23\u001b[0m \u001b[0;34m\u001b[0m\u001b[0m\n\u001b[1;32m     24\u001b[0m     \u001b[0;31m# Train the model\u001b[0m\u001b[0;34m\u001b[0m\u001b[0;34m\u001b[0m\u001b[0m\n\u001b[0;32m---> 25\u001b[0;31m     \u001b[0mmodel\u001b[0m\u001b[0;34m.\u001b[0m\u001b[0mfit\u001b[0m\u001b[0;34m(\u001b[0m\u001b[0mX_train\u001b[0m\u001b[0;34m,\u001b[0m \u001b[0my_train\u001b[0m\u001b[0;34m)\u001b[0m\u001b[0;34m\u001b[0m\u001b[0;34m\u001b[0m\u001b[0m\n\u001b[0m\u001b[1;32m     26\u001b[0m \u001b[0;34m\u001b[0m\u001b[0m\n\u001b[1;32m     27\u001b[0m     \u001b[0;31m# Make predictions\u001b[0m\u001b[0;34m\u001b[0m\u001b[0;34m\u001b[0m\u001b[0m\n",
      "\u001b[0;32m~/.local/lib/python3.10/site-packages/xgboost/core.py\u001b[0m in \u001b[0;36minner_f\u001b[0;34m(*args, **kwargs)\u001b[0m\n\u001b[1;32m    724\u001b[0m             \u001b[0;32mfor\u001b[0m \u001b[0mk\u001b[0m\u001b[0;34m,\u001b[0m \u001b[0marg\u001b[0m \u001b[0;32min\u001b[0m \u001b[0mzip\u001b[0m\u001b[0;34m(\u001b[0m\u001b[0msig\u001b[0m\u001b[0;34m.\u001b[0m\u001b[0mparameters\u001b[0m\u001b[0;34m,\u001b[0m \u001b[0margs\u001b[0m\u001b[0;34m)\u001b[0m\u001b[0;34m:\u001b[0m\u001b[0;34m\u001b[0m\u001b[0;34m\u001b[0m\u001b[0m\n\u001b[1;32m    725\u001b[0m                 \u001b[0mkwargs\u001b[0m\u001b[0;34m[\u001b[0m\u001b[0mk\u001b[0m\u001b[0;34m]\u001b[0m \u001b[0;34m=\u001b[0m \u001b[0marg\u001b[0m\u001b[0;34m\u001b[0m\u001b[0;34m\u001b[0m\u001b[0m\n\u001b[0;32m--> 726\u001b[0;31m             \u001b[0;32mreturn\u001b[0m \u001b[0mfunc\u001b[0m\u001b[0;34m(\u001b[0m\u001b[0;34m**\u001b[0m\u001b[0mkwargs\u001b[0m\u001b[0;34m)\u001b[0m\u001b[0;34m\u001b[0m\u001b[0;34m\u001b[0m\u001b[0m\n\u001b[0m\u001b[1;32m    727\u001b[0m \u001b[0;34m\u001b[0m\u001b[0m\n\u001b[1;32m    728\u001b[0m         \u001b[0;32mreturn\u001b[0m \u001b[0minner_f\u001b[0m\u001b[0;34m\u001b[0m\u001b[0;34m\u001b[0m\u001b[0m\n",
      "\u001b[0;32m~/.local/lib/python3.10/site-packages/xgboost/sklearn.py\u001b[0m in \u001b[0;36mfit\u001b[0;34m(self, X, y, sample_weight, base_margin, eval_set, verbose, xgb_model, sample_weight_eval_set, base_margin_eval_set, feature_weights)\u001b[0m\n\u001b[1;32m   1529\u001b[0m             )\n\u001b[1;32m   1530\u001b[0m \u001b[0;34m\u001b[0m\u001b[0m\n\u001b[0;32m-> 1531\u001b[0;31m             self._Booster = train(\n\u001b[0m\u001b[1;32m   1532\u001b[0m                 \u001b[0mparams\u001b[0m\u001b[0;34m,\u001b[0m\u001b[0;34m\u001b[0m\u001b[0;34m\u001b[0m\u001b[0m\n\u001b[1;32m   1533\u001b[0m                 \u001b[0mtrain_dmatrix\u001b[0m\u001b[0;34m,\u001b[0m\u001b[0;34m\u001b[0m\u001b[0;34m\u001b[0m\u001b[0m\n",
      "\u001b[0;32m~/.local/lib/python3.10/site-packages/xgboost/core.py\u001b[0m in \u001b[0;36minner_f\u001b[0;34m(*args, **kwargs)\u001b[0m\n\u001b[1;32m    724\u001b[0m             \u001b[0;32mfor\u001b[0m \u001b[0mk\u001b[0m\u001b[0;34m,\u001b[0m \u001b[0marg\u001b[0m \u001b[0;32min\u001b[0m \u001b[0mzip\u001b[0m\u001b[0;34m(\u001b[0m\u001b[0msig\u001b[0m\u001b[0;34m.\u001b[0m\u001b[0mparameters\u001b[0m\u001b[0;34m,\u001b[0m \u001b[0margs\u001b[0m\u001b[0;34m)\u001b[0m\u001b[0;34m:\u001b[0m\u001b[0;34m\u001b[0m\u001b[0;34m\u001b[0m\u001b[0m\n\u001b[1;32m    725\u001b[0m                 \u001b[0mkwargs\u001b[0m\u001b[0;34m[\u001b[0m\u001b[0mk\u001b[0m\u001b[0;34m]\u001b[0m \u001b[0;34m=\u001b[0m \u001b[0marg\u001b[0m\u001b[0;34m\u001b[0m\u001b[0;34m\u001b[0m\u001b[0m\n\u001b[0;32m--> 726\u001b[0;31m             \u001b[0;32mreturn\u001b[0m \u001b[0mfunc\u001b[0m\u001b[0;34m(\u001b[0m\u001b[0;34m**\u001b[0m\u001b[0mkwargs\u001b[0m\u001b[0;34m)\u001b[0m\u001b[0;34m\u001b[0m\u001b[0;34m\u001b[0m\u001b[0m\n\u001b[0m\u001b[1;32m    727\u001b[0m \u001b[0;34m\u001b[0m\u001b[0m\n\u001b[1;32m    728\u001b[0m         \u001b[0;32mreturn\u001b[0m \u001b[0minner_f\u001b[0m\u001b[0;34m\u001b[0m\u001b[0;34m\u001b[0m\u001b[0m\n",
      "\u001b[0;32m~/.local/lib/python3.10/site-packages/xgboost/training.py\u001b[0m in \u001b[0;36mtrain\u001b[0;34m(params, dtrain, num_boost_round, evals, obj, feval, maximize, early_stopping_rounds, evals_result, verbose_eval, xgb_model, callbacks, custom_metric)\u001b[0m\n\u001b[1;32m    179\u001b[0m         \u001b[0;32mif\u001b[0m \u001b[0mcb_container\u001b[0m\u001b[0;34m.\u001b[0m\u001b[0mbefore_iteration\u001b[0m\u001b[0;34m(\u001b[0m\u001b[0mbst\u001b[0m\u001b[0;34m,\u001b[0m \u001b[0mi\u001b[0m\u001b[0;34m,\u001b[0m \u001b[0mdtrain\u001b[0m\u001b[0;34m,\u001b[0m \u001b[0mevals\u001b[0m\u001b[0;34m)\u001b[0m\u001b[0;34m:\u001b[0m\u001b[0;34m\u001b[0m\u001b[0;34m\u001b[0m\u001b[0m\n\u001b[1;32m    180\u001b[0m             \u001b[0;32mbreak\u001b[0m\u001b[0;34m\u001b[0m\u001b[0;34m\u001b[0m\u001b[0m\n\u001b[0;32m--> 181\u001b[0;31m         \u001b[0mbst\u001b[0m\u001b[0;34m.\u001b[0m\u001b[0mupdate\u001b[0m\u001b[0;34m(\u001b[0m\u001b[0mdtrain\u001b[0m\u001b[0;34m,\u001b[0m \u001b[0miteration\u001b[0m\u001b[0;34m=\u001b[0m\u001b[0mi\u001b[0m\u001b[0;34m,\u001b[0m \u001b[0mfobj\u001b[0m\u001b[0;34m=\u001b[0m\u001b[0mobj\u001b[0m\u001b[0;34m)\u001b[0m\u001b[0;34m\u001b[0m\u001b[0;34m\u001b[0m\u001b[0m\n\u001b[0m\u001b[1;32m    182\u001b[0m         \u001b[0;32mif\u001b[0m \u001b[0mcb_container\u001b[0m\u001b[0;34m.\u001b[0m\u001b[0mafter_iteration\u001b[0m\u001b[0;34m(\u001b[0m\u001b[0mbst\u001b[0m\u001b[0;34m,\u001b[0m \u001b[0mi\u001b[0m\u001b[0;34m,\u001b[0m \u001b[0mdtrain\u001b[0m\u001b[0;34m,\u001b[0m \u001b[0mevals\u001b[0m\u001b[0;34m)\u001b[0m\u001b[0;34m:\u001b[0m\u001b[0;34m\u001b[0m\u001b[0;34m\u001b[0m\u001b[0m\n\u001b[1;32m    183\u001b[0m             \u001b[0;32mbreak\u001b[0m\u001b[0;34m\u001b[0m\u001b[0;34m\u001b[0m\u001b[0m\n",
      "\u001b[0;32m~/.local/lib/python3.10/site-packages/xgboost/core.py\u001b[0m in \u001b[0;36mupdate\u001b[0;34m(self, dtrain, iteration, fobj)\u001b[0m\n\u001b[1;32m   2099\u001b[0m         \u001b[0;32mif\u001b[0m \u001b[0mfobj\u001b[0m \u001b[0;32mis\u001b[0m \u001b[0;32mNone\u001b[0m\u001b[0;34m:\u001b[0m\u001b[0;34m\u001b[0m\u001b[0;34m\u001b[0m\u001b[0m\n\u001b[1;32m   2100\u001b[0m             _check_call(\n\u001b[0;32m-> 2101\u001b[0;31m                 _LIB.XGBoosterUpdateOneIter(\n\u001b[0m\u001b[1;32m   2102\u001b[0m                     \u001b[0mself\u001b[0m\u001b[0;34m.\u001b[0m\u001b[0mhandle\u001b[0m\u001b[0;34m,\u001b[0m \u001b[0mctypes\u001b[0m\u001b[0;34m.\u001b[0m\u001b[0mc_int\u001b[0m\u001b[0;34m(\u001b[0m\u001b[0miteration\u001b[0m\u001b[0;34m)\u001b[0m\u001b[0;34m,\u001b[0m \u001b[0mdtrain\u001b[0m\u001b[0;34m.\u001b[0m\u001b[0mhandle\u001b[0m\u001b[0;34m\u001b[0m\u001b[0;34m\u001b[0m\u001b[0m\n\u001b[1;32m   2103\u001b[0m                 )\n",
      "\u001b[0;31mKeyboardInterrupt\u001b[0m: "
     ]
    }
   ],
   "source": [
    "# Get list of unique users\n",
    "users = df['subject'].unique()\n",
    "\n",
    "# Define feature sets to use\n",
    "feature_sets = {\n",
    "    'First-Order Features': 'first_order',\n",
    "    'Second-Order Features': 'second_order',\n",
    "    'Combined Features': 'combined'\n",
    "}\n",
    "\n",
    "# Loop over feature sets\n",
    "for feature_set_name, feature_set_key in feature_sets.items():\n",
    "    print(f\"\\n=== Training models using {feature_set_name} ===\\n\")\n",
    "    \n",
    "    # Initialize lists to store metrics\n",
    "    accuracies = []\n",
    "    precisions = []\n",
    "    recalls = []\n",
    "    f1_scores = []\n",
    "    training_times = []\n",
    "    \n",
    "    # Loop over each user\n",
    "    for user in users:\n",
    "        accuracy, precision, recall, f1, training_time = train_and_evaluate_user(\n",
    "            user, df, feature_set_key, feature_set_name\n",
    "        )\n",
    "        accuracies.append(accuracy)\n",
    "        precisions.append(precision)\n",
    "        recalls.append(recall)\n",
    "        f1_scores.append(f1)\n",
    "        training_times.append(training_time)\n",
    "        \n",
    "    # Compute average metrics across all users for this feature set\n",
    "    average_accuracy = np.mean(accuracies)\n",
    "    average_precision = np.mean(precisions)\n",
    "    average_recall = np.mean(recalls)\n",
    "    average_f1_score = np.mean(f1_scores)\n",
    "    average_training_time = np.mean(training_times)\n",
    "    \n",
    "    print(f\"Average Metrics Across All Users for {feature_set_name}:\")\n",
    "    print(f\" - Average Accuracy: {average_accuracy * 100:.2f}%\")\n",
    "    print(f\" - Average Precision: {average_precision:.2f}\")\n",
    "    print(f\" - Average Recall: {average_recall:.2f}\")\n",
    "    print(f\" - Average F1-Score: {average_f1_score:.2f}\")\n",
    "    print(f\" - Average Training Time per User: {average_training_time:.2f} seconds\\n\")"
   ]
  }
 ],
 "metadata": {
  "colab": {
   "provenance": []
  },
  "kernelspec": {
   "display_name": "Python 3",
   "name": "python3"
  },
  "language_info": {
   "codemirror_mode": {
    "name": "ipython",
    "version": 3
   },
   "file_extension": ".py",
   "mimetype": "text/x-python",
   "name": "python",
   "nbconvert_exporter": "python",
   "pygments_lexer": "ipython3",
   "version": "3.10.12"
  }
 },
 "nbformat": 4,
 "nbformat_minor": 0
}
